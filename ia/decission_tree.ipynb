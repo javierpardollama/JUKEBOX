{
 "cells": [
  {
   "cell_type": "code",
   "execution_count": 25,
   "metadata": {},
   "outputs": [],
   "source": [
    "import matplotlib.pyplot as plt\n",
    "import pandas as pd\n",
    "from sklearn import tree\n",
    "from sklearn.model_selection import train_test_split\n",
    "from sklearn.tree import DecisionTreeClassifier\n",
    "from sklearn.metrics import classification_report, confusion_matrix\n",
    "from sklearn.metrics import confusion_matrix\n",
    "import numpy as np\n",
    "import seaborn as sns"
   ]
  },
  {
   "cell_type": "code",
   "execution_count": 26,
   "metadata": {},
   "outputs": [],
   "source": [
    "df = pd.read_json('../data/data.json')"
   ]
  },
  {
   "cell_type": "code",
   "execution_count": 27,
   "metadata": {},
   "outputs": [
    {
     "name": "stdout",
     "output_type": "stream",
     "text": [
      "Rows and columns in one JSON file is (132, 6)\n"
     ]
    }
   ],
   "source": [
    "df_shape = df.shape\n",
    "print(f'Rows and columns in one JSON file is {df_shape}')"
   ]
  },
  {
   "cell_type": "code",
   "execution_count": 28,
   "metadata": {},
   "outputs": [
    {
     "name": "stdout",
     "output_type": "stream",
     "text": [
      "First 10 columns in one JSON file is                    name artist  year gender  likes  bought\n",
      "0                 Queen  Queen  1973   Rock  560.0   False\n",
      "1              Queen II  Queen  1974   Rock  480.0   False\n",
      "2    Sheer Heart Attack  Queen  1974   Rock  487.0   False\n",
      "3  A Night at the Opera  Queen  1975   Rock  565.0   False\n",
      "4     News of the World  Queen  1977   Rock  562.0   False\n",
      "5                  Jazz  Queen  1978   Rock  568.0   False\n",
      "6              The Game  Queen  1980   Rock  492.0   False\n",
      "7             Hot Space  Queen  1982   Rock  482.0   False\n",
      "8             The Works  Queen  1984   Rock  552.0   False\n",
      "9       A Kind of Magic  Queen  1986   Rock  542.0   False\n"
     ]
    }
   ],
   "source": [
    "df_rows = df.head(10)\n",
    "print(f'First 10 columns in one JSON file is {df_rows}')"
   ]
  },
  {
   "cell_type": "code",
   "execution_count": 29,
   "metadata": {},
   "outputs": [
    {
     "name": "stdout",
     "output_type": "stream",
     "text": [
      "The column names are :\n",
      "#########\n",
      "name\n",
      "artist\n",
      "year\n",
      "gender\n",
      "likes\n",
      "bought\n"
     ]
    }
   ],
   "source": [
    "print(f'The column names are :')\n",
    "print('#########')\n",
    "for col in df.columns:\n",
    "    print(col)"
   ]
  },
  {
   "cell_type": "code",
   "execution_count": 30,
   "metadata": {},
   "outputs": [
    {
     "name": "stdout",
     "output_type": "stream",
     "text": [
      "Index(['name'], dtype='object')\n"
     ]
    }
   ],
   "source": [
    "cols = df.filter(regex='nam').columns\n",
    "\n",
    "print(cols)"
   ]
  },
  {
   "cell_type": "code",
   "execution_count": 31,
   "metadata": {},
   "outputs": [
    {
     "name": "stdout",
     "output_type": "stream",
     "text": [
      "The #rows and #columns are  132  and  6\n",
      "The years in this dataset are:  [1973 1974 1975 1977 1978 1980 1982 1984 1986 1989 1991 1995 1993 1963\n",
      " 1964 1965 1966 1967 1968 1970 1976 1979 1981 2021 2012 2015 2017 2018\n",
      " 1999 2001 2003 2006 2009 2022 1969 1971 1972 1983 1987 1997 2002 2013\n",
      " 2016 1996 2000 2010 2014 2004 2005 2008 2019 2020 2024]\n",
      "The artists covered in this dataset are:  ['Queen', 'Nirvana', 'The Beatles', 'ABBA', 'Imagine Dragons', 'MUSE', 'Rosalía', 'David Bowie', 'Spice Girls', 'Michael Jackson', 'Archive', 'Daft Punk', 'Taylor Swift']\n",
      "The genders covered are:  ['Rock', 'Pop', 'Pop Rock', 'Alternative Rock', 'Flamenco', 'Electronic']\n"
     ]
    }
   ],
   "source": [
    "print(\"The #rows and #columns are \", df.shape[0] , \" and \", df.shape[1])\n",
    "print(\"The years in this dataset are: \", df.year.unique())\n",
    "print(\"The artists covered in this dataset are: \", list(df.artist.unique()))\n",
    "print(\"The genders covered are: \", list(df.gender.unique()))"
   ]
  },
  {
   "cell_type": "code",
   "execution_count": 32,
   "metadata": {},
   "outputs": [
    {
     "data": {
      "text/html": [
       "<div>\n",
       "<style scoped>\n",
       "    .dataframe tbody tr th:only-of-type {\n",
       "        vertical-align: middle;\n",
       "    }\n",
       "\n",
       "    .dataframe tbody tr th {\n",
       "        vertical-align: top;\n",
       "    }\n",
       "\n",
       "    .dataframe thead th {\n",
       "        text-align: right;\n",
       "    }\n",
       "</style>\n",
       "<table border=\"1\" class=\"dataframe\">\n",
       "  <thead>\n",
       "    <tr style=\"text-align: right;\">\n",
       "      <th></th>\n",
       "      <th>Count</th>\n",
       "    </tr>\n",
       "    <tr>\n",
       "      <th>gender</th>\n",
       "      <th></th>\n",
       "    </tr>\n",
       "  </thead>\n",
       "  <tbody>\n",
       "    <tr>\n",
       "      <th>Rock</th>\n",
       "      <td>64</td>\n",
       "    </tr>\n",
       "    <tr>\n",
       "      <th>Pop</th>\n",
       "      <td>36</td>\n",
       "    </tr>\n",
       "    <tr>\n",
       "      <th>Electronic</th>\n",
       "      <td>16</td>\n",
       "    </tr>\n",
       "    <tr>\n",
       "      <th>Alternative Rock</th>\n",
       "      <td>9</td>\n",
       "    </tr>\n",
       "    <tr>\n",
       "      <th>Pop Rock</th>\n",
       "      <td>4</td>\n",
       "    </tr>\n",
       "    <tr>\n",
       "      <th>Flamenco</th>\n",
       "      <td>3</td>\n",
       "    </tr>\n",
       "  </tbody>\n",
       "</table>\n",
       "</div>"
      ],
      "text/plain": [
       "                  Count\n",
       "gender                 \n",
       "Rock                 64\n",
       "Pop                  36\n",
       "Electronic           16\n",
       "Alternative Rock      9\n",
       "Pop Rock              4\n",
       "Flamenco              3"
      ]
     },
     "execution_count": 32,
     "metadata": {},
     "output_type": "execute_result"
    }
   ],
   "source": [
    "counts = pd.DataFrame({'Count':df.gender.value_counts()})\n",
    "counts"
   ]
  },
  {
   "cell_type": "code",
   "execution_count": 33,
   "metadata": {},
   "outputs": [
    {
     "data": {
      "text/html": [
       "<div>\n",
       "<style scoped>\n",
       "    .dataframe tbody tr th:only-of-type {\n",
       "        vertical-align: middle;\n",
       "    }\n",
       "\n",
       "    .dataframe tbody tr th {\n",
       "        vertical-align: top;\n",
       "    }\n",
       "\n",
       "    .dataframe thead th {\n",
       "        text-align: right;\n",
       "    }\n",
       "</style>\n",
       "<table border=\"1\" class=\"dataframe\">\n",
       "  <thead>\n",
       "    <tr style=\"text-align: right;\">\n",
       "      <th></th>\n",
       "      <th>Count</th>\n",
       "    </tr>\n",
       "    <tr>\n",
       "      <th>gender</th>\n",
       "      <th></th>\n",
       "    </tr>\n",
       "  </thead>\n",
       "  <tbody>\n",
       "    <tr>\n",
       "      <th>Alternative Rock</th>\n",
       "      <td>9</td>\n",
       "    </tr>\n",
       "    <tr>\n",
       "      <th>Electronic</th>\n",
       "      <td>16</td>\n",
       "    </tr>\n",
       "    <tr>\n",
       "      <th>Flamenco</th>\n",
       "      <td>3</td>\n",
       "    </tr>\n",
       "    <tr>\n",
       "      <th>Pop</th>\n",
       "      <td>36</td>\n",
       "    </tr>\n",
       "    <tr>\n",
       "      <th>Pop Rock</th>\n",
       "      <td>4</td>\n",
       "    </tr>\n",
       "    <tr>\n",
       "      <th>Rock</th>\n",
       "      <td>64</td>\n",
       "    </tr>\n",
       "  </tbody>\n",
       "</table>\n",
       "</div>"
      ],
      "text/plain": [
       "                  Count\n",
       "gender                 \n",
       "Alternative Rock      9\n",
       "Electronic           16\n",
       "Flamenco              3\n",
       "Pop                  36\n",
       "Pop Rock              4\n",
       "Rock                 64"
      ]
     },
     "execution_count": 33,
     "metadata": {},
     "output_type": "execute_result"
    }
   ],
   "source": [
    "counts.sort_values(by=['gender'],ascending=True).head(15)"
   ]
  },
  {
   "cell_type": "code",
   "execution_count": 34,
   "metadata": {},
   "outputs": [],
   "source": [
    "df.rename(columns={'bought':'is_bought'}, inplace=True)"
   ]
  },
  {
   "cell_type": "code",
   "execution_count": 35,
   "metadata": {},
   "outputs": [
    {
     "data": {
      "text/plain": [
       "name         0\n",
       "artist       0\n",
       "year         0\n",
       "gender       0\n",
       "likes        2\n",
       "is_bought    0\n",
       "dtype: int64"
      ]
     },
     "execution_count": 35,
     "metadata": {},
     "output_type": "execute_result"
    }
   ],
   "source": [
    "df.isnull().sum(axis=0)"
   ]
  },
  {
   "cell_type": "code",
   "execution_count": 36,
   "metadata": {},
   "outputs": [
    {
     "data": {
      "text/plain": [
       "name         0\n",
       "artist       0\n",
       "year         0\n",
       "gender       0\n",
       "likes        0\n",
       "is_bought    0\n",
       "dtype: int64"
      ]
     },
     "execution_count": 36,
     "metadata": {},
     "output_type": "execute_result"
    }
   ],
   "source": [
    "df = df[~df.likes.isnull()]\n",
    "df.isnull().sum(axis = 0)"
   ]
  },
  {
   "cell_type": "code",
   "execution_count": 37,
   "metadata": {},
   "outputs": [
    {
     "name": "stdout",
     "output_type": "stream",
     "text": [
      "is_bought\n",
      "False    95\n",
      "True     35\n",
      "dtype: int64\n",
      "130\n"
     ]
    },
    {
     "data": {
      "image/png": "[encoded data removed]",
      "text/plain": [
       "<Figure size 640x480 with 1 Axes>"
      ]
     },
     "metadata": {},
     "output_type": "display_data"
    }
   ],
   "source": [
    "print(df.groupby('is_bought').size())\n",
    "print(len(df))\n",
    "\n",
    "(df.groupby('is_bought').size()/len(df) ).plot(kind='bar')\n",
    "plt.ylabel('Frequency')\n",
    "plt.title('Distribution of classes')\n",
    "plt.show()"
   ]
  },
  {
   "cell_type": "code",
   "execution_count": 38,
   "metadata": {},
   "outputs": [
    {
     "name": "stdout",
     "output_type": "stream",
     "text": [
      "The column names are :\n",
      "#########\n",
      "is_bought\n",
      "likes\n",
      "name\n",
      "artist\n",
      "year\n",
      "gender\n",
      "The column types are :\n",
      "#########\n",
      "bool\n",
      "float64\n",
      "category\n",
      "category\n",
      "category\n",
      "category\n"
     ]
    }
   ],
   "source": [
    "data_orig = df.copy()\n",
    "data = df[['is_bought', 'likes','name', 'artist', 'year', 'gender']]\n",
    "categorical_columns  = ['name', 'artist', 'year', 'gender']\n",
    "for c in categorical_columns:\n",
    "    data[c] = data[c].astype('category')\n",
    "    \n",
    "print(f'The column names are :')\n",
    "print('#########')\n",
    "for col in data.columns:\n",
    "    print(col)\n",
    "\n",
    "print(f'The column types are :')\n",
    "print('#########')\n",
    "for col in data.dtypes:\n",
    "    print(col)"
   ]
  },
  {
   "cell_type": "code",
   "execution_count": 39,
   "metadata": {},
   "outputs": [
    {
     "name": "stderr",
     "output_type": "stream",
     "text": [
      "C:\\Users\\j.pardo\\AppData\\Local\\Temp\\ipykernel_7956\\3453040042.py:2: FutureWarning: Downcasting behavior in `replace` is deprecated and will be removed in a future version. To retain the old behavior, explicitly call `result.infer_objects(copy=False)`. To opt-in to the future behavior, set `pd.set_option('future.no_silent_downcasting', True)`\n",
      "  data_dummies = data_dummies.replace({True: 1, False: 0})\n"
     ]
    }
   ],
   "source": [
    "data_dummies = pd.get_dummies(data[categorical_columns], drop_first=True) # Enter your code here\n",
    "data_dummies = data_dummies.replace({True: 1, False: 0})\n",
    "not_categorical_columns  = ['is_bought','likes']\n",
    "data = pd.concat([data, data_dummies], axis = 1)\n",
    "data.drop(categorical_columns,axis=1, inplace=True)"
   ]
  },
  {
   "cell_type": "code",
   "execution_count": 40,
   "metadata": {},
   "outputs": [
    {
     "name": "stdout",
     "output_type": "stream",
     "text": [
      "The #rows and #columns are  130  and  197\n"
     ]
    }
   ],
   "source": [
    "print(\"The #rows and #columns are \", data.shape[0] , \" and \", data.shape[1])"
   ]
  },
  {
   "cell_type": "code",
   "execution_count": 41,
   "metadata": {},
   "outputs": [
    {
     "name": "stdout",
     "output_type": "stream",
     "text": [
      "The column names are :\n",
      "#########\n",
      "is_bought\n",
      "likes\n",
      "name_1989\n",
      "name_A Hard Day's Night\n",
      "name_A Kind of Magic\n",
      "name_A Night at the Opera\n",
      "name_ABBA\n",
      "name_Abbey Road\n",
      "name_Absolution\n",
      "name_Aladdin Sane\n",
      "name_Arrival\n",
      "name_Axiom\n",
      "name_Bad\n",
      "name_Beatles '65\n",
      "name_Beatles VI\n",
      "name_Beatles for Sale\n",
      "name_Ben\n",
      "name_Black Holes and Revelations\n",
      "name_Black Tie White Noise\n",
      "name_Bleach\n",
      "name_Blood on the Dance Floor: History in the Mix\n",
      "name_Call to Arms and Angels\n",
      "name_Controlling Crowds\n",
      "name_Controlling Crowds – Part IV\n",
      "name_Dangerous\n",
      "name_Diamond Dogs\n",
      "name_Discovery\n",
      "name_Drones\n",
      "name_Earthlinge\n",
      "name_El mal querer\n",
      "name_Evermore\n",
      "name_Fearless\n",
      "name_Folklore\n",
      "name_Forever\n",
      "name_Forever, Michael\n",
      "name_Got to Be There\n",
      "name_Heathen\n",
      "name_Help!\n",
      "name_History: Past, Present and Future, Book I\n",
      "name_Homework\n",
      "name_Hot Space\n",
      "name_Hours...\n",
      "name_Human After All\n",
      "name_Hunky Dory\n",
      "name_In Utero\n",
      "name_Innuendo\n",
      "name_Introducing... The Beatles\n",
      "name_Invincible\n",
      "name_Jazz\n",
      "name_Let It Be\n",
      "name_Let's Dance\n",
      "name_Lights \n",
      "name_Lodger\n",
      "name_Londinium\n",
      "name_Los ángeles\n",
      "name_Lover\n",
      "name_Low\n",
      "name_Made in Heaven\n",
      "name_Magical Mystery Tour\n",
      "name_Meet the Beatles!\n",
      "name_Mercury – Act 1\n",
      "name_Michael\n",
      "name_Midnights\n",
      "name_Motomami\n",
      "name_Music and Me\n",
      "name_Never Let Me Down\n",
      "name_Nevermind\n",
      "name_News of the World\n",
      "name_Night Visions\n",
      "name_Noise\n",
      "name_Off the Wall\n",
      "name_Origin of Symmetry\n",
      "name_Origins\n",
      "name_Outside\n",
      "name_Pin Ups\n",
      "name_Please Please Me\n",
      "name_Queen\n",
      "name_Queen II\n",
      "name_Random Access Memories\n",
      "name_Reality\n",
      "name_Red\n",
      "name_Reputation\n",
      "name_Restriction\n",
      "name_Revolver \n",
      "name_Ring Ring\n",
      "name_Rubber Soul\n",
      "name_Scary Monsters (and Super Creeps)\n",
      "name_Sgt. Pepper's Lonely Hearts Club Band\n",
      "name_Sheer Heart Attack\n",
      "name_Showbiz\n",
      "name_Simulation Theory\n",
      "name_Smoke + Mirrors\n",
      "name_Something New\n",
      "name_Space Oddity\n",
      "name_Speak Now\n",
      "name_Spice\n",
      "name_Spiceworld\n",
      "name_Station to Station\n",
      "name_Super Trouper\n",
      "name_Take My Head\n",
      "name_Taylor Swift\n",
      "name_The 2nd Law\n",
      "name_The Album\n",
      "name_The BEATLES\n",
      "name_The Beatles' Second Album\n",
      "name_The Early Beatles\n",
      "name_The False Foundation\n",
      "name_The Game\n",
      "name_The Man Who Sold the World\n",
      "name_The Miracle\n",
      "name_The Next Day\n",
      "name_The Resistance\n",
      "name_The Rise and Fall of Ziggy Stardust and the Spiders from Mars\n",
      "name_The Visitors\n",
      "name_The Works\n",
      "name_Thriller\n",
      "name_Tonight\n",
      "name_Voulez-Vous\n",
      "name_Voyage\n",
      "name_Waterloo\n",
      "name_Will of the People\n",
      "name_With Us Until You're Dead \n",
      "name_With the Beatles\n",
      "name_Xscape\n",
      "name_Yellow Submarine\n",
      "name_Yesterday and Today\n",
      "name_You All Look the Same to Me  \n",
      "name_Young Americans\n",
      "name_★\n",
      "artist_Archive\n",
      "artist_Daft Punk\n",
      "artist_David Bowie\n",
      "artist_Imagine Dragons\n",
      "artist_MUSE\n",
      "artist_Michael Jackson\n",
      "artist_Nirvana\n",
      "artist_Queen\n",
      "artist_Rosalía\n",
      "artist_Spice Girls\n",
      "artist_Taylor Swift\n",
      "artist_The Beatles\n",
      "year_1964\n",
      "year_1965\n",
      "year_1966\n",
      "year_1967\n",
      "year_1968\n",
      "year_1969\n",
      "year_1970\n",
      "year_1971\n",
      "year_1972\n",
      "year_1973\n",
      "year_1974\n",
      "year_1975\n",
      "year_1976\n",
      "year_1977\n",
      "year_1978\n",
      "year_1979\n",
      "year_1980\n",
      "year_1981\n",
      "year_1982\n",
      "year_1983\n",
      "year_1984\n",
      "year_1986\n",
      "year_1987\n",
      "year_1989\n",
      "year_1991\n",
      "year_1993\n",
      "year_1995\n",
      "year_1996\n",
      "year_1997\n",
      "year_1999\n",
      "year_2000\n",
      "year_2001\n",
      "year_2002\n",
      "year_2003\n",
      "year_2004\n",
      "year_2005\n",
      "year_2006\n",
      "year_2008\n",
      "year_2009\n",
      "year_2010\n",
      "year_2012\n",
      "year_2013\n",
      "year_2014\n",
      "year_2015\n",
      "year_2016\n",
      "year_2017\n",
      "year_2018\n",
      "year_2019\n",
      "year_2020\n",
      "year_2021\n",
      "year_2022\n",
      "gender_Electronic\n",
      "gender_Flamenco\n",
      "gender_Pop\n",
      "gender_Pop Rock\n",
      "gender_Rock\n"
     ]
    }
   ],
   "source": [
    "print(f'The column names are :')\n",
    "print('#########')\n",
    "for col in data.columns:\n",
    "    print(col)"
   ]
  },
  {
   "cell_type": "code",
   "execution_count": 42,
   "metadata": {},
   "outputs": [],
   "source": [
    "data.rename(columns = {'is_bought':'target'}, inplace=True )"
   ]
  },
  {
   "cell_type": "code",
   "execution_count": 43,
   "metadata": {},
   "outputs": [],
   "source": [
    "X = np.array(data['likes']).reshape(-1, 1)\n",
    "Y = np.array(data['target']).reshape(-1, 1)"
   ]
  },
  {
   "cell_type": "code",
   "execution_count": 44,
   "metadata": {},
   "outputs": [],
   "source": [
    "x_train, x_test, y_train, y_test = train_test_split(X, Y, test_size=0.33, random_state=42)"
   ]
  },
  {
   "cell_type": "code",
   "execution_count": 45,
   "metadata": {},
   "outputs": [],
   "source": [
    "train_tree = DecisionTreeClassifier()\n",
    "train_tree = train_tree.fit(x_train, y_train)"
   ]
  },
  {
   "cell_type": "code",
   "execution_count": 46,
   "metadata": {},
   "outputs": [
    {
     "data": {
      "image/png": "[encoded data removed]",
      "text/plain": [
       "<Figure size 640x480 with 1 Axes>"
      ]
     },
     "metadata": {},
     "output_type": "display_data"
    }
   ],
   "source": [
    "tree.plot_tree(train_tree)\n",
    "\n",
    "plt.show()"
   ]
  },
  {
   "cell_type": "code",
   "execution_count": 47,
   "metadata": {},
   "outputs": [],
   "source": [
    "test_tree = DecisionTreeClassifier()\n",
    "test_tree = test_tree.fit(x_test, y_test)\n",
    "y_pred = test_tree.predict(x_test)"
   ]
  },
  {
   "cell_type": "code",
   "execution_count": 48,
   "metadata": {},
   "outputs": [
    {
     "data": {
      "image/png": "[encoded data removed]",
      "text/plain": [
       "<Figure size 640x480 with 1 Axes>"
      ]
     },
     "metadata": {},
     "output_type": "display_data"
    }
   ],
   "source": [
    "tree.plot_tree(test_tree)\n",
    "\n",
    "plt.show()"
   ]
  },
  {
   "cell_type": "code",
   "execution_count": 49,
   "metadata": {},
   "outputs": [],
   "source": [
    "def plot_confusion_matrix(test_labels, target_predicted):\n",
    "    matrix = confusion_matrix(test_labels, target_predicted)\n",
    "    df_confusion = pd.DataFrame(matrix)\n",
    "    colormap = sns.color_palette(\"BrBG\", 10)\n",
    "    sns.heatmap(df_confusion, annot=True, fmt='.2f', cbar=None, cmap=colormap)\n",
    "    plt.title(\"Confusion Matrix\")\n",
    "    plt.tight_layout()\n",
    "    plt.ylabel(\"True Class\")\n",
    "    plt.xlabel(\"Predicted Class\")\n",
    "    plt.show()"
   ]
  },
  {
   "cell_type": "code",
   "execution_count": 50,
   "metadata": {},
   "outputs": [],
   "source": [
    "def plot_stats(test_labels, target_predicted):\n",
    "    TN, FP, FN, TP = confusion_matrix(test_labels, target_predicted).ravel()\n",
    "\n",
    "    sens  = float(TP)/(TP+FN)*100\n",
    "    espc  = float(TN)/(TN+FP)*100\n",
    "    Vpp = float(TP)/(TP+FP)*100\n",
    "    Vpn = float(TN)/(TN+FN)*100\n",
    "    ACC = float(TP+TN)/(TP+FP+FN+TN)*100\n",
    "    classification_report_lr = classification_report(test_labels, target_predicted)\n",
    "\n",
    "    print(\"Decission Tree Metrics:\")\n",
    "    print(\"Sensibilidad: \", sens, \"%\") \n",
    "    print(\"Especificidad: \",espc, \"%\") \n",
    "    print(\"Valor predictivo positivo \",Vpp, \"%\") \n",
    "    print(\"Valor predictivo negativo: \",Vpn, \"%\") \n",
    "    print(\"Eficacia: \",ACC, \"%\") \n",
    "    print('Reporte del clasificador:')\n",
    "    print(classification_report_lr)"
   ]
  },
  {
   "cell_type": "code",
   "execution_count": 51,
   "metadata": {},
   "outputs": [
    {
     "data": {
      "image/png": "[encoded data removed]",
      "text/plain": [
       "<Figure size 640x480 with 1 Axes>"
      ]
     },
     "metadata": {},
     "output_type": "display_data"
    },
    {
     "name": "stdout",
     "output_type": "stream",
     "text": [
      "Logistic Regression Metrics:\n",
      "  Sensibilidad:  100.0 %\n",
      "  Especificidad:  100.0 %\n",
      "  Valor predictivo positivo  100.0 %\n",
      "  Valor predictivo negativo:  100.0 %\n",
      "  Eficacia:  100.0 %\n",
      "  Reporte del clasificador:\n",
      "              precision    recall  f1-score   support\n",
      "\n",
      "       False       1.00      1.00      1.00        31\n",
      "        True       1.00      1.00      1.00        12\n",
      "\n",
      "    accuracy                           1.00        43\n",
      "   macro avg       1.00      1.00      1.00        43\n",
      "weighted avg       1.00      1.00      1.00        43\n",
      "\n"
     ]
    }
   ],
   "source": [
    "plot_confusion_matrix(y_test, y_pred)\n",
    "plot_stats(y_test, y_pred)"
   ]
  }
 ],
 "metadata": {
  "kernelspec": {
   "display_name": "Python 3",
   "language": "python",
   "name": "python3"
  },
  "language_info": {
   "codemirror_mode": {
    "name": "ipython",
    "version": 3
   },
   "file_extension": ".py",
   "mimetype": "text/x-python",
   "name": "python",
   "nbconvert_exporter": "python",
   "pygments_lexer": "ipython3",
   "version": "3.12.2"
  }
 },
 "nbformat": 4,
 "nbformat_minor": 2
}
